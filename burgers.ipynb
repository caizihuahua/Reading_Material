{
 "cells": [
  {
   "cell_type": "code",
   "execution_count": 1,
   "metadata": {},
   "outputs": [],
   "source": [
    "import tensorflow as tf\n",
    "import numpy as np\n",
    "import matplotlib.pyplot as plt\n",
    "from scipy.interpolate import griddata\n",
    "import os,time,datetime,sys"
   ]
  },
  {
   "cell_type": "markdown",
   "metadata": {},
   "source": [
    "### Structure of the PINNs"
   ]
  },
  {
   "cell_type": "code",
   "execution_count": 2,
   "metadata": {},
   "outputs": [
    {
     "name": "stdout",
     "output_type": "stream",
     "text": [
      "python    : 3.9.13 (tags/v3.9.13:6de2ca5, May 17 2022, 16:36:42) [MSC v.1929 64 bit (AMD64)]\n",
      "tensorflow: 2.9.1\n",
      "rand seed : 1234\n"
     ]
    }
   ],
   "source": [
    "in_dim = 2\n",
    "out_dim = 1\n",
    "width = 20\n",
    "depth = 7\n",
    "\n",
    "epoch = 8000\n",
    "tol = 1e-8\n",
    "\n",
    "N_0 = 50\n",
    "N_b = 50\n",
    "N_r = 2000\n",
    "\n",
    "w_init = \"glorot_normal\"\n",
    "b_init = \"zeros\"\n",
    "act = \"tanh\"\n",
    "\n",
    "lr = tf.keras.optimizers.schedules.CosineDecay(\n",
    "    initial_learning_rate = 5e-3,\n",
    "    decay_steps = epoch,\n",
    "    alpha = 1e-2\n",
    ")\n",
    "\n",
    "opt = \"Adam\"\n",
    "info_freq = 100\n",
    "info_seed = 1234\n",
    "\n",
    "weight_data = 1.\n",
    "weight_pde = 1.\n",
    "\n",
    "print(\"python    :\", sys.version)\n",
    "print(\"tensorflow:\", tf.__version__)\n",
    "print(\"rand seed :\", info_seed)\n",
    "os.environ[\"PYTHONHASHSEED\"] = str(info_seed)\n",
    "np.random.seed(info_seed)\n",
    "tf.random.set_seed(info_seed)"
   ]
  },
  {
   "cell_type": "markdown",
   "metadata": {},
   "source": [
    "### Data for Burgers equation\n",
    "\n",
    "$$\n",
    "\\begin{aligned}\n",
    "&u_t+uu_x−(0.01/\\pi)u_{xx}=0,   x\\in[−1,1],   t\\in[0,1] \\\\\n",
    "&u(0,x)=−sin(\\pi x)\\\\\n",
    "&u(t,−1)=u(t,1)=0\n",
    "\\end{aligned}\n",
    "$$"
   ]
  },
  {
   "cell_type": "code",
   "execution_count": 3,
   "metadata": {},
   "outputs": [],
   "source": [
    "tmin, tmax =  0., 1.\n",
    "xmin, xmax = -1., 1.\n",
    "lb = tf.constant([tmin, xmin], dtype = tf.float32)\n",
    "ub = tf.constant([tmax, xmax], dtype = tf.float32)\n",
    "\n",
    "t_0 = tf.ones((N_0, 1), dtype = tf.float32) * lb[0]\n",
    "x_0 = tf.random.uniform((N_0, 1), lb[1], ub[1], dtype = tf.float32)\n",
    "t_b = tf.random.uniform((N_b, 1), lb[0], ub[0], dtype = tf.float32)\n",
    "x_b = lb[1] + (ub[1] - lb[1]) * tf.keras.backend.random_bernoulli((N_b, 1), .5, dtype = tf.float32)\n",
    "t_r = tf.random.uniform((N_r, 1), lb[0], ub[0], dtype = tf.float32)\n",
    "x_r = tf.random.uniform((N_r, 1), lb[1], ub[1], dtype = tf.float32)\n",
    "\n",
    "# initial and boundary\n",
    "u_0 = -tf.sin(np.pi*x_0)\n",
    "u_b = tf.zeros((x_b.shape[0],1),dtype=tf.float32)"
   ]
  },
  {
   "cell_type": "code",
   "execution_count": 4,
   "metadata": {},
   "outputs": [],
   "source": [
    "t = tf.concat([t_0,t_b],axis=0)\n",
    "x = tf.concat([x_0,x_b],axis=0)\n",
    "u = tf.concat([u_0,u_b],axis=0)"
   ]
  },
  {
   "cell_type": "markdown",
   "metadata": {},
   "source": [
    "### Build PINNs"
   ]
  },
  {
   "cell_type": "code",
   "execution_count": 44,
   "metadata": {},
   "outputs": [],
   "source": [
    "class PINN(tf.keras.Model):\n",
    "    def __init__(\n",
    "            self,\n",
    "            t,x,u,t_r,x_r,lb,ub,\n",
    "            in_dim,out_dim,width,depth,\n",
    "            activ=\"tanh\",w_init=\"glorot_normal\",b_init=\"zeros\",\n",
    "            lr=1e-3,opt=\"Adam\",weight_data=1.,weight_pde=1.,\n",
    "            info_freq=100,info_seed=1234):\n",
    "        super().__init__()\n",
    "        # information\n",
    "        self.info_freq = info_freq\n",
    "        self.info_seed = info_freq\n",
    "        # initial the data\n",
    "        self.data_type = tf.float32\n",
    "        self.x = tf.convert_to_tensor(x,dtype=self.data_type)\n",
    "        self.t = tf.convert_to_tensor(t,dtype=self.data_type)\n",
    "        self.u = tf.convert_to_tensor(u,dtype=self.data_type)\n",
    "        self.x_r = tf.convert_to_tensor(x_r,dtype=self.data_type)\n",
    "        self.t_r = tf.convert_to_tensor(t_r,dtype=self.data_type)\n",
    "        self.lb = tf.convert_to_tensor(lb,dtype=self.data_type)\n",
    "        self.ub = tf.convert_to_tensor(ub,dtype=self.data_type)\n",
    "        self.nu = tf.constant(0.01/np.pi,dtype=self.data_type)\n",
    "        # neuron network configuration\n",
    "        self.in_dim = in_dim\n",
    "        self.out_dim = out_dim\n",
    "        self.width = width\n",
    "        self.depth = depth\n",
    "        self.activ = activ\n",
    "        self.w_init = w_init\n",
    "        self.b_init = b_init\n",
    "        self.lr = lr\n",
    "        self.opt = opt\n",
    "        self.weight_data = weight_data\n",
    "        self.weight_pde = weight_pde\n",
    "        \n",
    "        # call\n",
    "        self.dnn = self.dnn_init(in_dim,out_dim,width,depth)\n",
    "        self.params = self.dnn.trainable_variables\n",
    "        self.optimizer = tf.keras.optimizers.Adam(learning_rate = lr, beta_1 = 0.9, beta_2 = 0.999, amsgrad = False)\n",
    "\n",
    "        # track loss\n",
    "        self.ep_log = []\n",
    "        self.loss_log = []\n",
    "\n",
    "        print(\">>>>> start time:\", datetime.datetime.now())\n",
    "        print(\">>>>> configuration;\")\n",
    "        print(\"         dtype        :\", self.data_type)\n",
    "        print(\"         activ func   :\", self.activ)\n",
    "        print(\"         weight init  :\", self.w_init)\n",
    "        print(\"         learning rate:\", self.lr)\n",
    "        print(\"         optimizer    :\", self.opt)\n",
    "        print(\"         summary      :\", self.dnn.summary())\n",
    "    \n",
    "    def dnn_init(self,in_dim,out_dim,width,depth):\n",
    "        net = tf.keras.Sequential()\n",
    "        net.add(tf.keras.layers.InputLayer(in_dim))\n",
    "        # net.add(tf.keras.layers.Lambda(lambda x: 2. * (x - self.lb) / (self.ub - self.lb) - 1.))\n",
    "\n",
    "        for l in range(depth - 1):\n",
    "            net.add(tf.keras.layers.Dense(units=width, activation = self.activ,kernel_initializer = self.w_init, bias_initializer = self.b_init, ))\n",
    "        net.add(tf.keras.layers.Dense(out_dim))\n",
    "        return net\n",
    "    \n",
    "    def loss_pde(self):\n",
    "        with tf.GradientTape(persistent=True) as tp:\n",
    "            tp.watch(self.t_r)\n",
    "            tp.watch(self.x_r)\n",
    "            u = self.dnn(tf.concat([self.t_r,self.x_r],1))\n",
    "            u_t = tp.gradient(u,self.t_r)\n",
    "            u_x = tp.gradient(u,self.x_r)\n",
    "        u_xx = tp.gradient(u_x,self.x_r)\n",
    "        del tp\n",
    "        gv = u_t + u * u_x - self.nu * u_xx\n",
    "        r = tf.reduce_mean(tf.square(gv))\n",
    "        return r\n",
    "    \n",
    "    def loss_icbc(self):\n",
    "        u_nn = self.dnn(tf.concat([self.t,self.x],1))\n",
    "        return tf.reduce_mean(tf.square(self.u-u_nn))\n",
    "    \n",
    "    @tf.function\n",
    "    def grad_desc(self):\n",
    "        with tf.GradientTape() as tp:\n",
    "            loss = self.loss_pde() + self.loss_icbc()\n",
    "        grad = tp.gradient(loss,self.params)\n",
    "        del tp\n",
    "        self.optimizer.apply_gradients(zip(grad,self.params))\n",
    "        return loss\n",
    "    \n",
    "    def train(self,epoch,tol):\n",
    "        print(\">>>>> training setting;\")\n",
    "        print(\"         # of epoch     :\", epoch)\n",
    "        print(\"         convergence tol:\", tol)\n",
    "\n",
    "        t0 = time.time()\n",
    "        for ep in range(epoch):\n",
    "            self.loss_pde()\n",
    "            self.loss_icbc()\n",
    "            ep_loss = self.grad_desc()\n",
    "            if ep % self.info_freq ==0:\n",
    "                elps = time.time() -t0\n",
    "                self.ep_log.append(ep)\n",
    "                self.loss_log.append(ep_loss)\n",
    "                print(\"ep: %d, loss: %.3e, elps: %.3f\" % (ep, ep_loss, elps))\n",
    "                t0 = time.time()\n",
    "            if ep_loss < tol:\n",
    "                print(\">>>>> end time:\", datetime.datetime.now())\n",
    "                break\n",
    "        print(\">>>>> end time:\", datetime.datetime.now())\n",
    "\n",
    "    def predict(self,t,x):\n",
    "        t = tf.convert_to_tensor(t,dtype=self.data_type)\n",
    "        x = tf.convert_to_tensor(x,dtype=self.data_type)\n",
    "        with tf.GradientTape(persistent=True) as tp:\n",
    "            tp.watch(self.t)\n",
    "            tp.watch(self.x)\n",
    "            u = self.dnn(tf.concat([self.t,self.x],1))\n",
    "            u_t = tp.gradient(u,self.t)\n",
    "            u_x = tp.gradient(u,self.x)\n",
    "        u_xx = tp.gradient(u_x,self.x)\n",
    "        gv = u_t + u * u_x - self.nu * u_xx\n",
    "        r = tf.reduce_mean(tf.square(gv))\n",
    "        return u,r"
   ]
  },
  {
   "cell_type": "code",
   "execution_count": 45,
   "metadata": {},
   "outputs": [
    {
     "name": "stdout",
     "output_type": "stream",
     "text": [
      ">>>>> start time: 2022-07-13 22:40:50.676609\n",
      ">>>>> configuration;\n",
      "         dtype        : <dtype: 'float32'>\n",
      "         activ func   : tanh\n",
      "         weight init  : glorot_normal\n",
      "         learning rate: 0.001\n",
      "         optimizer    : Adam\n",
      "Model: \"sequential_1\"\n",
      "_________________________________________________________________\n",
      " Layer (type)                Output Shape              Param #   \n",
      "=================================================================\n",
      " dense_7 (Dense)             (None, 20)                60        \n",
      "                                                                 \n",
      " dense_8 (Dense)             (None, 20)                420       \n",
      "                                                                 \n",
      " dense_9 (Dense)             (None, 20)                420       \n",
      "                                                                 \n",
      " dense_10 (Dense)            (None, 20)                420       \n",
      "                                                                 \n",
      " dense_11 (Dense)            (None, 20)                420       \n",
      "                                                                 \n",
      " dense_12 (Dense)            (None, 20)                420       \n",
      "                                                                 \n",
      " dense_13 (Dense)            (None, 1)                 21        \n",
      "                                                                 \n",
      "=================================================================\n",
      "Total params: 2,181\n",
      "Trainable params: 2,181\n",
      "Non-trainable params: 0\n",
      "_________________________________________________________________\n",
      "         summary      : None\n"
     ]
    }
   ],
   "source": [
    "pinn = PINN(t,x,u,t_r,x_r,lb,ub,\n",
    "            in_dim,out_dim,width,depth,\n",
    "            activ=act,w_init=w_init,b_init=b_init,\n",
    "            lr=1e-3,opt=opt,weight_data=1.,weight_pde=1.,\n",
    "            info_freq=100,info_seed=1234)"
   ]
  },
  {
   "cell_type": "code",
   "execution_count": 8,
   "metadata": {},
   "outputs": [
    {
     "name": "stdout",
     "output_type": "stream",
     "text": [
      ">>>>> training setting;\n",
      "         # of epoch     : 1000\n",
      "         convergence tol: 1e-08\n",
      "WARNING:tensorflow:Calling GradientTape.gradient on a persistent tape inside its context is significantly less efficient than calling it outside the context (it causes the gradient ops to be recorded on the tape, leading to increased CPU and memory usage). Only call GradientTape.gradient inside the context if you actually want to trace the gradient in order to compute higher order derivatives.\n",
      "WARNING:tensorflow:Calling GradientTape.gradient on a persistent tape inside its context is significantly less efficient than calling it outside the context (it causes the gradient ops to be recorded on the tape, leading to increased CPU and memory usage). Only call GradientTape.gradient inside the context if you actually want to trace the gradient in order to compute higher order derivatives.\n",
      "WARNING:tensorflow:Calling GradientTape.gradient on a persistent tape inside its context is significantly less efficient than calling it outside the context (it causes the gradient ops to be recorded on the tape, leading to increased CPU and memory usage). Only call GradientTape.gradient inside the context if you actually want to trace the gradient in order to compute higher order derivatives.\n",
      "ep: 0, loss: 3.361e-01, elps: 1.513\n",
      "ep: 100, loss: 1.187e-01, elps: 2.597\n",
      "ep: 200, loss: 9.691e-02, elps: 2.593\n",
      "ep: 300, loss: 8.662e-02, elps: 2.555\n",
      "ep: 400, loss: 7.274e-02, elps: 2.565\n",
      "ep: 500, loss: 6.694e-02, elps: 2.572\n",
      "ep: 600, loss: 6.243e-02, elps: 2.567\n",
      "ep: 700, loss: 5.637e-02, elps: 2.684\n",
      "ep: 800, loss: 4.980e-02, elps: 2.799\n",
      "ep: 900, loss: 4.427e-02, elps: 2.880\n",
      ">>>>> end time: 2022-07-13 22:20:09.659871\n"
     ]
    }
   ],
   "source": [
    "pinn.train(epoch=1000,tol=1e-8)"
   ]
  },
  {
   "cell_type": "markdown",
   "metadata": {},
   "source": [
    "### Visualization"
   ]
  },
  {
   "cell_type": "code",
   "execution_count": 9,
   "metadata": {},
   "outputs": [],
   "source": [
    "def plot_loss(x,y,title,savepath=\"./pics\"):\n",
    "    # plt.figure(figsize=(8,4))\n",
    "    fig1,ax1 = plt.subplots(1)\n",
    "    ax1.plot(x,y)\n",
    "    ax1.grid(alpha=0.5)\n",
    "    ax1.set_ylabel(\"loss\")\n",
    "    ax1.set_xlabel(\"epoch\")\n",
    "    ax1.set_title(\"train loss\")\n",
    "\n",
    "    # plt.figure(figsize=(8,4))\n",
    "    fig2,ax2 = plt.subplots(1)\n",
    "    ax2.plot(x,y)\n",
    "    ax2.grid(alpha=0.5)\n",
    "    ax2.set_ylabel(\"loss\")\n",
    "    ax2.set_xlabel(\"epoch\")\n",
    "    ax2.set_title(\"train loss(log)\")\n",
    "\n",
    "    # plt.figure(figsize=(8,4))\n",
    "    fig3,ax3 = plt.subplots(1)\n",
    "    strt = int(len(x)*0.7)\n",
    "    ax3.plot(x[strt:],y[strt:])\n",
    "    ax3.grid(alpha=0.5)\n",
    "    ax3.set_xlabel(\"epoch\")\n",
    "    ax3.set_ylabel(\"loss\")\n",
    "    ax2.set_yscale(\"log\")\n",
    "    ax3.set_title(\"train loss(part)\")\n",
    "\n",
    "    if not os.path.exists(savepath):\n",
    "        os.makedirs(savepath)\n",
    "    fig1.savefig(savepath+\"/\"+title)\n",
    "    fig2.savefig(savepath+\"/\"+title+\"(log)\")\n",
    "    fig3.savefig(savepath+\"/\"+title+\"(part\")\n"
   ]
  },
  {
   "cell_type": "code",
   "execution_count": 10,
   "metadata": {},
   "outputs": [
    {
     "data": {
      "image/png": "[encoded data removed]",
      "text/plain": [
       "<Figure size 432x288 with 1 Axes>"
      ]
     },
     "metadata": {
      "needs_background": "light"
     },
     "output_type": "display_data"
    },
    {
     "data": {
      "image/png": "[encoded data removed]",
      "text/plain": [
       "<Figure size 432x288 with 1 Axes>"
      ]
     },
     "metadata": {
      "needs_background": "light"
     },
     "output_type": "display_data"
    },
    {
     "data": {
      "image/png": "[encoded data removed]",
      "text/plain": [
       "<Figure size 432x288 with 1 Axes>"
      ]
     },
     "metadata": {
      "needs_background": "light"
     },
     "output_type": "display_data"
    }
   ],
   "source": [
    "plot_loss(pinn.ep_log,pinn.loss_log,\"loss\")"
   ]
  },
  {
   "cell_type": "code",
   "execution_count": 11,
   "metadata": {},
   "outputs": [],
   "source": [
    "def plot_solution(X,u,title,savepath=\"./pics\"):\n",
    "    lb = X.min(0)\n",
    "    ub = X.max(0)\n",
    "    x = np.linspace(lb[0],ub[0],200)\n",
    "    y = np.linspace(lb[1],ub[1],200)\n",
    "    x,y = np.meshgrid(x,y)\n",
    "    phi = griddata(X,u.flatten(),(x,y),method=\"linear\")\n",
    "    plt.imshow(phi,interpolation='nearest',camp='rainbow',extent=[0,1-1,1],origin=\"lower\",aspect=\"auto\")\n",
    "    plt.colorbar()\n",
    "    plt.title(title)\n",
    "    plt.xlabel('t')\n",
    "    plt.ylabel('x')\n",
    "    if not os.path.exists(savepath):\n",
    "        os.makedirs(savepath)\n",
    "    plt.savefig(savepath+'/'+title)\n",
    "    "
   ]
  },
  {
   "cell_type": "code",
   "execution_count": 37,
   "metadata": {},
   "outputs": [],
   "source": [
    "t = np.linspace(tmin,tmax,10)\n",
    "x = np.linspace(xmin,xmax,10)\n",
    "\n",
    "t,x = np.meshgrid(t,x)\n",
    "t = t.reshape(-1, 1)\n",
    "x = x.reshape(-1, 1)\n",
    "TX = np.c_[t,x]"
   ]
  },
  {
   "cell_type": "code",
   "execution_count": 46,
   "metadata": {},
   "outputs": [
    {
     "name": "stdout",
     "output_type": "stream",
     "text": [
      "WARNING:tensorflow:Calling GradientTape.gradient on a persistent tape inside its context is significantly less efficient than calling it outside the context (it causes the gradient ops to be recorded on the tape, leading to increased CPU and memory usage). Only call GradientTape.gradient inside the context if you actually want to trace the gradient in order to compute higher order derivatives.\n",
      "WARNING:tensorflow:Calling GradientTape.gradient on a persistent tape inside its context is significantly less efficient than calling it outside the context (it causes the gradient ops to be recorded on the tape, leading to increased CPU and memory usage). Only call GradientTape.gradient inside the context if you actually want to trace the gradient in order to compute higher order derivatives.\n"
     ]
    }
   ],
   "source": [
    "u_hat,r_hat = pinn.predict(t,x)\n",
    "# plot_solution(TX, u_hat[:,0].numpy(),title='density_prediction')\n",
    "# plot_solution(TX, u_hat[:,1].numpy(),title='velocity_prediction')\n",
    "# plot_solution(TX, u_hat[:,2].numpy(),title='pressure_prediction')"
   ]
  },
  {
   "cell_type": "code",
   "execution_count": 47,
   "metadata": {},
   "outputs": [
    {
     "name": "stdout",
     "output_type": "stream",
     "text": [
      "tf.Tensor(\n",
      "[[-0.41611972]\n",
      " [-0.4331377 ]\n",
      " [-0.44431108]\n",
      " [-0.4506061 ]\n",
      " [-0.4530731 ]\n",
      " [-0.4527025 ]\n",
      " [-0.45034552]\n",
      " [-0.44668958]\n",
      " [-0.44226387]\n",
      " [-0.4374621 ]\n",
      " [-0.3500275 ]\n",
      " [-0.37124413]\n",
      " [-0.3862512 ]\n",
      " [-0.39594555]\n",
      " [-0.40141463]\n",
      " [-0.40373355]\n",
      " [-0.4038431 ]\n",
      " [-0.4025047 ]\n",
      " [-0.4003009 ]\n",
      " [-0.39765903]\n",
      " [-0.26765743]\n",
      " [-0.29383236]\n",
      " [-0.31391817]\n",
      " [-0.32851985]\n",
      " [-0.3385958 ]\n",
      " [-0.34519443]\n",
      " [-0.34928015]\n",
      " [-0.35165077]\n",
      " [-0.35292163]\n",
      " [-0.35354516]\n",
      " [-0.16907483]\n",
      " [-0.20033705]\n",
      " [-0.22648785]\n",
      " [-0.24752839]\n",
      " [-0.2639971 ]\n",
      " [-0.27670056]\n",
      " [-0.28648964]\n",
      " [-0.29412568]\n",
      " [-0.3002272 ]\n",
      " [-0.30526644]\n",
      " [-0.05795752]\n",
      " [-0.09322186]\n",
      " [-0.12545745]\n",
      " [-0.15382546]\n",
      " [-0.17810577]\n",
      " [-0.19855294]\n",
      " [-0.21568227]\n",
      " [-0.23008803]\n",
      " [-0.24232978]\n",
      " [-0.25288287]\n",
      " [ 0.05795752]\n",
      " [ 0.021073  ]\n",
      " [-0.01573466]\n",
      " [-0.05088415]\n",
      " [-0.08323757]\n",
      " [-0.11221975]\n",
      " [-0.13774014]\n",
      " [-0.16002442]\n",
      " [-0.17945158]\n",
      " [-0.19643903]\n",
      " [ 0.16907483]\n",
      " [ 0.13342863]\n",
      " [ 0.09482971]\n",
      " [ 0.05512232]\n",
      " [ 0.01612757]\n",
      " [-0.02072633]\n",
      " [-0.05456722]\n",
      " [-0.08503768]\n",
      " [-0.11215198]\n",
      " [-0.13614151]\n",
      " [ 0.26765743]\n",
      " [ 0.23542345]\n",
      " [ 0.19796334]\n",
      " [ 0.15684146]\n",
      " [ 0.11403172]\n",
      " [ 0.07148208]\n",
      " [ 0.03075978]\n",
      " [-0.0071068 ]\n",
      " [-0.04160351]\n",
      " [-0.07260847]\n",
      " [ 0.3500275 ]\n",
      " [ 0.32215524]\n",
      " [ 0.28786436]\n",
      " [ 0.2481636 ]\n",
      " [ 0.20470548]\n",
      " [ 0.15946424]\n",
      " [ 0.11435349]\n",
      " [ 0.07092908]\n",
      " [ 0.03025589]\n",
      " [-0.00707734]\n",
      " [ 0.41611972]\n",
      " [ 0.39257485]\n",
      " [ 0.36231887]\n",
      " [ 0.32581878]\n",
      " [ 0.28420493]\n",
      " [ 0.23911425]\n",
      " [ 0.19240594]\n",
      " [ 0.1458522 ]\n",
      " [ 0.10090773]\n",
      " [ 0.05860269]], shape=(100, 1), dtype=float32)\n"
     ]
    }
   ],
   "source": [
    "print(u_hat)"
   ]
  }
 ],
 "metadata": {
  "kernelspec": {
   "display_name": "Python 3.9.13 64-bit",
   "language": "python",
   "name": "python3"
  },
  "language_info": {
   "codemirror_mode": {
    "name": "ipython",
    "version": 3
   },
   "file_extension": ".py",
   "mimetype": "text/x-python",
   "name": "python",
   "nbconvert_exporter": "python",
   "pygments_lexer": "ipython3",
   "version": "3.9.13"
  },
  "orig_nbformat": 4,
  "vscode": {
   "interpreter": {
    "hash": "6ca3aa8ecd0b7bddf142c4852696022db00ef254c6fe98093bb8bf9134bdc29e"
   }
  }
 },
 "nbformat": 4,
 "nbformat_minor": 2
}
